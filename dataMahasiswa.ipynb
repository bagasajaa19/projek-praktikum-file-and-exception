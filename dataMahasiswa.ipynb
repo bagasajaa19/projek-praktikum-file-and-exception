{
 "cells": [
  {
   "cell_type": "code",
   "execution_count": 1,
   "id": "57061f8f-c0e5-42f0-8c6b-dfeb5cb56423",
   "metadata": {},
   "outputs": [
    {
     "name": "stdout",
     "output_type": "stream",
     "text": [
      "===== OPSI =====\n",
      "1. Tambahkan Data\n",
      "2. Tampilkan Data\n",
      "3. Exit\n"
     ]
    },
    {
     "name": "stdin",
     "output_type": "stream",
     "text": [
      "Pilih menu (1-3):  1\n",
      "Masukkan NIM:  20240020094\n",
      "Masukkan Nama:  bagas prasetyo\n",
      "Masukkan Alamat:  london losangeles\n",
      "Masukkan Kelas:  ti24\n"
     ]
    },
    {
     "name": "stdout",
     "output_type": "stream",
     "text": [
      "===== OPSI =====\n",
      "1. Tambahkan Data\n",
      "2. Tampilkan Data\n",
      "3. Exit\n"
     ]
    },
    {
     "name": "stdin",
     "output_type": "stream",
     "text": [
      "Pilih menu (1-3):  1\n",
      "Masukkan NIM:  20240021938\n",
      "Masukkan Nama:  henhen\n",
      "Masukkan Alamat:  bandung \n",
      "Masukkan Kelas:  ti23\n"
     ]
    },
    {
     "name": "stdout",
     "output_type": "stream",
     "text": [
      "Alamat minimal 10 huruf\n",
      "===== OPSI =====\n",
      "1. Tambahkan Data\n",
      "2. Tampilkan Data\n",
      "3. Exit\n"
     ]
    },
    {
     "name": "stdin",
     "output_type": "stream",
     "text": [
      "Pilih menu (1-3):  2\n"
     ]
    },
    {
     "name": "stdout",
     "output_type": "stream",
     "text": [
      "\n",
      "NIM = 20240040094\n",
      "Nama = Bagas Prasetyo\n",
      "Alamat = London LosAngeles\n",
      "Kelas = TI24\n",
      "\n",
      "NIM = 2020494723\n",
      "Nama = Henhen\n",
      "Alamat = bandung lautan api\n",
      "Kelas = TI23\n",
      "NIM = 20240020094\n",
      "Nama = bagas prasetyo\n",
      "Alamat = london losangeles\n",
      "Kelas = TI24\n",
      "\n",
      "===== OPSI =====\n",
      "1. Tambahkan Data\n",
      "2. Tampilkan Data\n",
      "3. Exit\n"
     ]
    },
    {
     "name": "stdin",
     "output_type": "stream",
     "text": [
      "Pilih menu (1-3):  3\n"
     ]
    },
    {
     "name": "stdout",
     "output_type": "stream",
     "text": [
      "Terima kasih!\n"
     ]
    }
   ],
   "source": [
    "while True:\n",
    "    print(\"===== OPSI =====\")\n",
    "    print(\"1. Tambahkan Data\")\n",
    "    print(\"2. Tampilkan Data\")\n",
    "    print(\"3. Exit\")\n",
    "\n",
    "    pilihan = input(\"Pilih menu (1-3): \")\n",
    "    \n",
    "    if pilihan == \"1\":\n",
    "        nim = input(\"Masukkan NIM: \") #bila di setting integer di awal, akan error ketika input bukan int\n",
    "        nama = input(\"Masukkan Nama: \")\n",
    "        alamat = input(\"Masukkan Alamat: \")\n",
    "        kelas = input(\"Masukkan Kelas: \").upper()\n",
    "            \n",
    "        if nim.isdigit():\n",
    "            if len(nama) > 5:\n",
    "                if len(alamat) > 10:\n",
    "                    if kelas in [\"TI23\", \"TI24\"]:\n",
    "                        with open(\"dataMahasiswa.txt\", \"a\") as file:\n",
    "                            file.write(f\"\\nNIM = {nim}\\nNama = {nama}\\nAlamat = {alamat}\\nKelas = {kelas}\\n\")\n",
    "                    else :\n",
    "                        print(\"Kelas harus TI23 atau TI24\")\n",
    "                else : \n",
    "                    print(\"Alamat minimal 10 huruf\")\n",
    "            else :\n",
    "                print(\"Panjang Nama minimal 5 huruf\")\n",
    "        else :\n",
    "            print(\"NIM bukan Numerik\")\n",
    "    \n",
    "    elif pilihan == \"2\":\n",
    "        try:\n",
    "            f = open(\"dataMahasiswa.txt\", \"r\")\n",
    "            baris = f.read()\n",
    "\n",
    "        except FileNotFound:\n",
    "            print(\"File Tidak Ditemukan!\")\n",
    "\n",
    "        else :\n",
    "            print(baris)\n",
    "\n",
    "    elif pilihan == \"3\":\n",
    "        print(\"Terima kasih!\")\n",
    "        break\n",
    "    else:\n",
    "        print(\"Pilihan tidak valid.\")"
   ]
  }
 ],
 "metadata": {
  "kernelspec": {
   "display_name": "Python [conda env:base] *",
   "language": "python",
   "name": "conda-base-py"
  },
  "language_info": {
   "codemirror_mode": {
    "name": "ipython",
    "version": 3
   },
   "file_extension": ".py",
   "mimetype": "text/x-python",
   "name": "python",
   "nbconvert_exporter": "python",
   "pygments_lexer": "ipython3",
   "version": "3.12.7"
  }
 },
 "nbformat": 4,
 "nbformat_minor": 5
}
